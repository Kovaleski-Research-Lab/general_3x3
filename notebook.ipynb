{
 "cells": [
  {
   "cell_type": "code",
   "execution_count": null,
   "id": "cfc62af5-1a20-4bc0-8c6a-ddebedd318ef",
   "metadata": {},
   "outputs": [],
   "source": [
    "import matplotlib.pyplot as plt \n",
    "import yaml\n",
    "import simulation\n",
    "import meep as mp"
   ]
  },
  {
   "cell_type": "code",
   "execution_count": null,
   "id": "1bccf626-cf7c-4a56-9523-1376b85a0bc3",
   "metadata": {},
   "outputs": [],
   "source": [
    "params = yaml.load(open(\"config.yaml\"), Loader = yaml.FullLoader)\n",
    "params_simulation = params['simulation']\n",
    "sim, dft_obj, flux_obj = simulation.build_sim(params)\n",
    "\n",
    "\n",
    "center_mon_z = round(params['cell_z'] / 2, 3)\n",
    "source_component = mp.Ey\n",
    "\n",
    "cell_x = params['cell_x']\n",
    "cell_y = params['cell_y']\n",
    "cell_z = params['cell_z']\n",
    "\n",
    "center_x = 0\n",
    "center_y = 0\n",
    "center_z = 0\n",
    "\n",
    "plot_plane = mp.Volume( center = mp.Vector3(center_x, center_y, center_z), \n",
    "                        size=mp.Vector3(cell_x, 0, cell_z))\n",
    "\n",
    "\n",
    "\n",
    "\n",
    "#sim.run(until_after_sources = mp.stop_when_fields_decayed(  dt = params_simulation['dt'],\n",
    "#                                                            c = params_simulation['source_component'],\n",
    "#                                                            pt = mp.Vector3(0, 0, center_mon_z),\n",
    "#                                                            decay_by = params_simulation['decay_rate']))\n",
    "\n",
    "sim.run(until=1)\n",
    "fig,ax = plt.subplots(1,1,figsize=(5,5))\n",
    "sim.plot2D(output_plane = plot_plane)"
   ]
  },
  {
   "cell_type": "code",
   "execution_count": null,
   "id": "c9989dc1-80f2-4f62-ac0e-6ed695acd6bc",
   "metadata": {},
   "outputs": [],
   "source": [
    "params"
   ]
  },
  {
   "cell_type": "code",
   "execution_count": null,
   "id": "27b4e3d1-c5bc-4424-8c70-862f0f4d654c",
   "metadata": {},
   "outputs": [],
   "source": [
    "plot_plane = mp.Volume( center = mp.Vector3(0, 0, 0), \n",
    "                        size=mp.Vector3(cell_x, 0, cell_z))    \n",
    "fig,ax = plt.subplots(1,1,figsize=(5,5))\n",
    "sim.plot2D(output_plane = plot_plane, ax=ax)"
   ]
  },
  {
   "cell_type": "code",
   "execution_count": null,
   "id": "7d95a381-5078-423b-95c6-6f5f2674d5be",
   "metadata": {},
   "outputs": [],
   "source": [
    "fig.savefig(\"marshall_testing2.png\")"
   ]
  },
  {
   "cell_type": "code",
   "execution_count": null,
   "id": "e2124212-d197-4876-ad1c-56da1e286ab2",
   "metadata": {},
   "outputs": [],
   "source": []
  }
 ],
 "metadata": {
  "kernelspec": {
   "display_name": "Python 3 (ipykernel)",
   "language": "python",
   "name": "python3"
  },
  "language_info": {
   "codemirror_mode": {
    "name": "ipython",
    "version": 3
   },
   "file_extension": ".py",
   "mimetype": "text/x-python",
   "name": "python",
   "nbconvert_exporter": "python",
   "pygments_lexer": "ipython3",
   "version": "3.10.12"
  }
 },
 "nbformat": 4,
 "nbformat_minor": 5
}
