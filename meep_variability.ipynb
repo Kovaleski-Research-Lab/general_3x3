{
 "cells": [
  {
   "cell_type": "code",
   "execution_count": null,
   "id": "16cfbea3-76ed-44f3-9d21-60dc0046438a",
   "metadata": {},
   "outputs": [],
   "source": [
    "import meep as mp\n",
    "import pickle\n",
    "import os\n",
    "import sys\n",
    "import numpy as np\n",
    "import matplotlib.pyplot as plt"
   ]
  },
  {
   "cell_type": "code",
   "execution_count": null,
   "id": "f36f4e54-3eb6-456a-bcbd-d3c3f6400f6a",
   "metadata": {},
   "outputs": [],
   "source": [
    "path_results = '/develop/results/meep_variability_study/'\n",
    "files = os.listdir(path_results)\n",
    "print(files)"
   ]
  },
  {
   "cell_type": "code",
   "execution_count": null,
   "id": "ec1c234d-356e-46a8-9b8c-a8919ab32bc7",
   "metadata": {},
   "outputs": [],
   "source": [
    "data = []\n",
    "for f in files:\n",
    "    data.append(pickle.load(open(os.path.join(path_results,f), 'rb'))[0][1.55][1])"
   ]
  },
  {
   "cell_type": "code",
   "execution_count": null,
   "id": "a2e3e7e2-3127-44df-986a-9f5e57d46d07",
   "metadata": {},
   "outputs": [],
   "source": [
    "amplitudes = [np.abs(d) for d in data]\n",
    "phases = [np.angle(d) for d in data]"
   ]
  },
  {
   "cell_type": "code",
   "execution_count": null,
   "id": "5886cad3-c88a-4d00-b2a7-33ccd5470d6e",
   "metadata": {},
   "outputs": [],
   "source": [
    "for i in range(len(amplitudes)-1):\n",
    "    assert amplitudes[i] == amplitudes[i+1]).all()"
   ]
  },
  {
   "cell_type": "code",
   "execution_count": null,
   "id": "fe9e184a-83d9-4833-b342-8640299064d6",
   "metadata": {},
   "outputs": [],
   "source": []
  }
 ],
 "metadata": {
  "kernelspec": {
   "display_name": "Python 3 (ipykernel)",
   "language": "python",
   "name": "python3"
  },
  "language_info": {
   "codemirror_mode": {
    "name": "ipython",
    "version": 3
   },
   "file_extension": ".py",
   "mimetype": "text/x-python",
   "name": "python",
   "nbconvert_exporter": "python",
   "pygments_lexer": "ipython3",
   "version": "3.10.12"
  }
 },
 "nbformat": 4,
 "nbformat_minor": 5
}
