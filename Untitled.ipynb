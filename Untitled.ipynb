{
 "cells": [
  {
   "cell_type": "code",
   "execution_count": null,
   "id": "2e1ae333-8bad-4f9a-8b0b-5543cd9bac9f",
   "metadata": {},
   "outputs": [],
   "source": [
    "import pickle\n",
    "import matplotlib.pyplot as plt"
   ]
  },
  {
   "cell_type": "code",
   "execution_count": null,
   "id": "d8e21e22-c651-4983-826a-b28327341dab",
   "metadata": {},
   "outputs": [],
   "source": [
    "andy_eps = pickle.load(open('andy_epsilon.pkl', 'rb'))\n",
    "marshall_eps = pickle.load(open('marshall_epsilon.pkl', 'rb'))\n",
    "shape = marshall_eps.shape"
   ]
  },
  {
   "cell_type": "code",
   "execution_count": null,
   "id": "a258ac87-ae45-4d1e-9639-de3db229e6f5",
   "metadata": {},
   "outputs": [],
   "source": [
    "index = 126\n",
    "fig,ax = plt.subplots(1,3,figsize=(15,5))\n",
    "ax[0].imshow(andy_eps[:,:,index])\n",
    "ax[1].imshow(marshall_eps[:,:,index])\n",
    "ax[2].imshow(marshall_eps[:,:,index] - andy_eps[:,:,index])\n",
    "print((andy_eps[:,:,index] == marshall_eps[:,:,index]).all())"
   ]
  },
  {
   "cell_type": "code",
   "execution_count": null,
   "id": "33267ec9-b580-4b1e-a76b-e47c30cbf484",
   "metadata": {
    "scrolled": true
   },
   "outputs": [],
   "source": [
    "for i in range(0,shape[-1]):\n",
    "    assert((andy_eps[:,:,i] == marshall_eps[:,:,i]).all()), i"
   ]
  },
  {
   "cell_type": "code",
   "execution_count": null,
   "id": "7361194c-4c77-407b-a59a-69374fe18b3b",
   "metadata": {},
   "outputs": [],
   "source": [
    "(andy_eps == marshall_eps).all()"
   ]
  },
  {
   "cell_type": "code",
   "execution_count": null,
   "id": "78627f75-cfd8-45d2-afac-6d2c69d1cd8d",
   "metadata": {},
   "outputs": [],
   "source": [
    "(andy_eps[:,:,126]-marshall_eps[:,:,126]).max()"
   ]
  },
  {
   "cell_type": "code",
   "execution_count": null,
   "id": "abcf5549-8d57-49d9-907e-6a2f0014654c",
   "metadata": {},
   "outputs": [],
   "source": [
    "marshall_eps[:,:,126].max()"
   ]
  },
  {
   "cell_type": "code",
   "execution_count": null,
   "id": "993ee40c-fd2b-4c59-b1ef-f55de09ef22d",
   "metadata": {},
   "outputs": [],
   "source": [
    "andy_eps[:,:,126].max()"
   ]
  },
  {
   "cell_type": "code",
   "execution_count": null,
   "id": "0c68e677-7c79-4278-94a4-ed1315a67a59",
   "metadata": {},
   "outputs": [],
   "source": []
  }
 ],
 "metadata": {
  "kernelspec": {
   "display_name": "Python 3 (ipykernel)",
   "language": "python",
   "name": "python3"
  },
  "language_info": {
   "codemirror_mode": {
    "name": "ipython",
    "version": 3
   },
   "file_extension": ".py",
   "mimetype": "text/x-python",
   "name": "python",
   "nbconvert_exporter": "python",
   "pygments_lexer": "ipython3",
   "version": "3.10.12"
  }
 },
 "nbformat": 4,
 "nbformat_minor": 5
}
