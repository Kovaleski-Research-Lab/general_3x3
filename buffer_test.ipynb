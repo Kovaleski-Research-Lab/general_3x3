{
 "cells": [
  {
   "cell_type": "code",
   "execution_count": null,
   "id": "b9b2d741-3550-49cb-8d4a-2fc11256e92e",
   "metadata": {},
   "outputs": [],
   "source": [
    "import pickle\n",
    "import h5py\n",
    "import os\n",
    "import matplotlib.pyplot as plt\n",
    "import numpy as np"
   ]
  },
  {
   "cell_type": "code",
   "execution_count": null,
   "id": "8a264f20-a266-4c68-9009-c7b3edca7c23",
   "metadata": {},
   "outputs": [],
   "source": [
    "path_results = '/develop/results/buffer_study'\n",
    "files = os.listdir(path_results)"
   ]
  },
  {
   "cell_type": "code",
   "execution_count": null,
   "id": "57583b0c-56f4-42de-ac58-17560d7de6c9",
   "metadata": {},
   "outputs": [],
   "source": [
    "field_files = [i for i in files if i.endswith('.h5')]\n",
    "eps_files = [i for i in files if 'eps' in i]\n",
    "meta_files = [i for i in files if 'meta' in i]\n",
    "\n",
    "field_files.sort()\n",
    "eps_files.sort()\n",
    "meta_files.sort()"
   ]
  },
  {
   "cell_type": "code",
   "execution_count": null,
   "id": "5e80e0ee-0581-404b-92e7-6ec593f4772e",
   "metadata": {},
   "outputs": [],
   "source": [
    "buffer_list = [i * 0.25 for i in range(1,13)]\n",
    "buffer_list.pop(3)"
   ]
  },
  {
   "cell_type": "code",
   "execution_count": null,
   "id": "fd889bc6-22fa-4bef-9f0c-bcf7ad0c2afa",
   "metadata": {},
   "outputs": [],
   "source": [
    "for i,j,k in zip(field_files, eps_files, meta_files):\n",
    "    print(i,j,k)\n",
    "    print()"
   ]
  },
  {
   "cell_type": "code",
   "execution_count": null,
   "id": "43f98c38-bac8-48c1-87b4-869f2e8315d2",
   "metadata": {},
   "outputs": [],
   "source": [
    "x,y,z,w = pickle.load(open(os.path.join(path_results, meta_files[-1]), 'rb'))"
   ]
  },
  {
   "cell_type": "code",
   "execution_count": null,
   "id": "dcdc48e5-1868-40d5-9842-3b43a8e41b52",
   "metadata": {},
   "outputs": [],
   "source": [
    "field_data = h5py.File(os.path.join(path_results, field_files[-1]))"
   ]
  },
  {
   "cell_type": "code",
   "execution_count": null,
   "id": "8e7539e4-6db1-4e97-91d5-863d658926cd",
   "metadata": {},
   "outputs": [],
   "source": [
    "y_field = np.asarray(field_data['ey_2.r']) + 1j*np.asarray(field_data['ey_2.i'])"
   ]
  },
  {
   "cell_type": "code",
   "execution_count": null,
   "id": "84857d44-7f25-4133-a2ab-42de11aef137",
   "metadata": {},
   "outputs": [],
   "source": [
    "eps_data = pickle.load(open(os.path.join(path_results, eps_files[-1]), 'rb'))"
   ]
  },
  {
   "cell_type": "code",
   "execution_count": null,
   "id": "3f9872b3-5842-4e28-8504-d648b79ea634",
   "metadata": {},
   "outputs": [],
   "source": [
    "plt.pcolormesh(x,z,np.abs(y_field[:,203,:]), shading = 'gouraud')"
   ]
  },
  {
   "cell_type": "code",
   "execution_count": null,
   "id": "30dfcef7-1abb-4a87-8dcc-b345426cbd27",
   "metadata": {},
   "outputs": [],
   "source": [
    "xx,zz = np.meshgrid(x,z)"
   ]
  },
  {
   "cell_type": "code",
   "execution_count": null,
   "id": "522c7fc9-343f-4ec0-87d1-6deb2709c29c",
   "metadata": {},
   "outputs": [],
   "source": [
    "plt.pcolormesh(x,z,np.transpose(np.abs(y_field[:,203,:])))\n",
    "plt.gca().set_aspect('equal')"
   ]
  },
  {
   "cell_type": "code",
   "execution_count": null,
   "id": "837efe4a-fecf-4c9a-8f86-cf50e8739d73",
   "metadata": {},
   "outputs": [],
   "source": [
    "plt.imshow(np.abs(y_field[:,203,:]))"
   ]
  },
  {
   "cell_type": "code",
   "execution_count": null,
   "id": "befcd165-7537-40af-b6ec-0d10836c4d1a",
   "metadata": {},
   "outputs": [],
   "source": [
    "for i in range(0,len(meta_files)):\n",
    "    print(meta_files[i])\n",
    "    x,y,z,w = pickle.load(open(os.path.join(path_results, meta_files[i]), 'rb'))\n",
    "    field_data = h5py.File(os.path.join(path_results, field_files[i]))    \n",
    "    y_field = np.asarray(field_data['ey_2.r']) + 1j*np.asarray(field_data['ey_2.i'])\n",
    "    shape = y_field.shape\n",
    "    plt.pcolormesh(x,z,np.transpose(np.abs(y_field[:,shape[1]//2,:])))\n",
    "    plt.gca().set_aspect('equal')\n",
    "    plt.title(\"Buffer = {:.02f} [um]\".format(buffer_list[i]))\n",
    "    plt.xlabel(\"X [um]\")\n",
    "    plt.ylabel(\"Z [um]\")\n",
    "    plt.savefig(\"xz_slize_buffer_{:.03f}.png\".format(buffer_list[i]))\n",
    "    plt.show()\n",
    "    plt.close('all')"
   ]
  },
  {
   "cell_type": "code",
   "execution_count": null,
   "id": "99d5898b-6113-4fb3-9ee6-a4f050da803d",
   "metadata": {},
   "outputs": [],
   "source": [
    "for i in range(0,len(meta_files)):\n",
    "    print(meta_files[i])\n",
    "    x,y,z,w = pickle.load(open(os.path.join(path_results, meta_files[i]), 'rb'))\n",
    "    field_data = h5py.File(os.path.join(path_results, field_files[i]))    \n",
    "    y_field = np.asarray(field_data['ey_2.r']) + 1j*np.asarray(field_data['ey_2.i'])\n",
    "    shape = y_field.shape\n",
    "    z_slice = np.where(z > (-2.39 + (1.02/2) + (1.55/2)))[0][0]\n",
    "    plt.pcolormesh(x,y,np.transpose(np.abs(y_field[:,:,z_slice])))\n",
    "    plt.gca().set_aspect('equal')\n",
    "    plt.title(\"Buffer = {:.02f} [um]\".format(buffer_list[i]))\n",
    "    plt.xlabel(\"X [um]\")\n",
    "    plt.ylabel(\"Y [um]\")\n",
    "    plt.savefig(\"xy_slize_z_0.78_buffer_{:.03f}.png\".format(buffer_list[i]))\n",
    "    plt.show()\n",
    "    plt.close('all')"
   ]
  },
  {
   "cell_type": "code",
   "execution_count": null,
   "id": "52007e27-7442-4b85-8940-f009f3b113b3",
   "metadata": {},
   "outputs": [],
   "source": [
    "z"
   ]
  },
  {
   "cell_type": "code",
   "execution_count": null,
   "id": "09d98127-97e3-435d-8655-ed6dd8d0e64b",
   "metadata": {},
   "outputs": [],
   "source": [
    "z = np.asarray(z)"
   ]
  },
  {
   "cell_type": "code",
   "execution_count": null,
   "id": "3bd998bc-2c68-4910-958c-319a5a9bec09",
   "metadata": {},
   "outputs": [],
   "source": [
    "np.where(z > -2.39 + (1.02/2) + 1.55/2)[0][0]"
   ]
  },
  {
   "cell_type": "code",
   "execution_count": null,
   "id": "1b949131-acfb-438c-afd2-5d627c83c940",
   "metadata": {},
   "outputs": [],
   "source": [
    "z[207]"
   ]
  },
  {
   "cell_type": "code",
   "execution_count": null,
   "id": "ffb3c753-cf82-497d-999c-a15b82d71bb8",
   "metadata": {},
   "outputs": [],
   "source": []
  }
 ],
 "metadata": {
  "kernelspec": {
   "display_name": "Python 3 (ipykernel)",
   "language": "python",
   "name": "python3"
  },
  "language_info": {
   "codemirror_mode": {
    "name": "ipython",
    "version": 3
   },
   "file_extension": ".py",
   "mimetype": "text/x-python",
   "name": "python",
   "nbconvert_exporter": "python",
   "pygments_lexer": "ipython3",
   "version": "3.10.12"
  }
 },
 "nbformat": 4,
 "nbformat_minor": 5
}
