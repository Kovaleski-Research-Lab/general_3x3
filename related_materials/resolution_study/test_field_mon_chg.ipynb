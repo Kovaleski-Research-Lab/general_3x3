{
 "cells": [
  {
   "cell_type": "code",
   "execution_count": 1,
   "id": "3deea613-66b9-40fc-92e1-f4bd1c489615",
   "metadata": {},
   "outputs": [
    {
     "name": "stdout",
     "output_type": "stream",
     "text": [
      "Using MPI version 4.0, 1 processes\n"
     ]
    },
    {
     "name": "stderr",
     "output_type": "stream",
     "text": [
      "hwloc/linux: Ignoring PCI device with non-16bit domain.\n",
      "Pass --enable-32bits-pci-domain to configure to support such devices\n",
      "(warning: it would break the library ABI, don't enable unless really needed).\n"
     ]
    }
   ],
   "source": [
    "import numpy as np\n",
    "import os\n",
    "import sys\n",
    "import yaml\n",
    "import matplotlib.pyplot as plt\n",
    "\n",
    "from helpers import get_colors, get_raw_data, get_slice, get_components, get_min_and_max, get_norm_fields, plot_fields\n",
    "\n",
    "sys.path.append(\"../..\")\n",
    "from utils.general import load_config, parse_args"
   ]
  },
  {
   "cell_type": "code",
   "execution_count": 2,
   "id": "1e8300d1-4812-4fd5-be33-bc4210ee8f5d",
   "metadata": {},
   "outputs": [],
   "source": [
    "root_original = \"/develop/data/meep_studies/resolution_study\"\n",
    "root_test = \"/develop/data/meep_studies/resolution_study/test\""
   ]
  },
  {
   "cell_type": "code",
   "execution_count": 5,
   "id": "08570443-b29e-485a-a12b-25029a70368a",
   "metadata": {},
   "outputs": [],
   "source": [
    "all_resolutions = [30, 40]\n",
    "\n",
    "components = {}\n",
    "all_minima = []\n",
    "all_maxima = []\n",
    "def get_results(root):\n",
    "    \n",
    "    for resolution in all_resolutions:\n",
    "        params, eps_data, ex_data, ey_data, ez_data = get_raw_data(resolution, root)\n",
    "        slice = get_slice(params, eps_data, ex_data, ey_data, ez_data) # this gives us the location of the slice we want to observe\n",
    "        x, y, z = get_components(slice, ex_data, ey_data, ez_data) # get x, y, and z componenets fo the fields at the specified slice\n",
    "        min_val, max_val = get_min_and_max(x, y, z)\n",
    "        all_minima.append(min_val)\n",
    "        all_maxima.append(max_val)\n",
    "    \n",
    "        if resolution not in components:\n",
    "            components[resolution] = {}\n",
    "        components[resolution]['ex'] = x\n",
    "        components[resolution]['ey'] = y\n",
    "        components[resolution]['ez'] = z\n",
    "\n",
    "    return params, all_minima, all_maxima, components"
   ]
  },
  {
   "cell_type": "code",
   "execution_count": 7,
   "id": "d4bd2297-f727-4cb9-868d-bfbdf6bc44f5",
   "metadata": {},
   "outputs": [
    {
     "name": "stdout",
     "output_type": "stream",
     "text": [
      "for resolution 30, eps_data.shape is (62, 62, 149)\n",
      "for resolution 40, eps_data.shape is (83, 83, 198)\n",
      "for resolution 30, eps_data.shape is (62, 62, 149)\n",
      "for resolution 40, eps_data.shape is (83, 83, 198)\n"
     ]
    }
   ],
   "source": [
    "params_orignal, all_minima_original, all_maxima_original, components_original = get_results(root_original)\n",
    "params_test, all_minima_test, all_maxima_test, components_test = get_results(root_test)"
   ]
  },
  {
   "cell_type": "code",
   "execution_count": 10,
   "id": "0c9aaa5c-6fd3-46d9-9437-c63bfa302e3c",
   "metadata": {},
   "outputs": [
    {
     "data": {
      "text/plain": [
       "True"
      ]
     },
     "execution_count": 10,
     "metadata": {},
     "output_type": "execute_result"
    }
   ],
   "source": [
    "all_minima_original == all_minima_test"
   ]
  },
  {
   "cell_type": "code",
   "execution_count": 16,
   "id": "6a1b205b-4042-4cb5-be3a-018f4253aaca",
   "metadata": {},
   "outputs": [
    {
     "data": {
      "text/plain": [
       "False"
      ]
     },
     "execution_count": 16,
     "metadata": {},
     "output_type": "execute_result"
    }
   ],
   "source": [
    "np.array_equal(components_original[30]['ez'], components_test[40]['ez'])"
   ]
  },
  {
   "cell_type": "code",
   "execution_count": null,
   "id": "ab91e590-04dc-4c42-9dec-cd48da855fe6",
   "metadata": {},
   "outputs": [],
   "source": []
  }
 ],
 "metadata": {
  "kernelspec": {
   "display_name": "Python 3 (ipykernel)",
   "language": "python",
   "name": "python3"
  },
  "language_info": {
   "codemirror_mode": {
    "name": "ipython",
    "version": 3
   },
   "file_extension": ".py",
   "mimetype": "text/x-python",
   "name": "python",
   "nbconvert_exporter": "python",
   "pygments_lexer": "ipython3",
   "version": "3.10.12"
  }
 },
 "nbformat": 4,
 "nbformat_minor": 5
}
